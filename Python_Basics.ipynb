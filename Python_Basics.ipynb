{
  "nbformat": 4,
  "nbformat_minor": 0,
  "metadata": {
    "colab": {
      "provenance": []
    },
    "kernelspec": {
      "name": "python3",
      "display_name": "Python 3"
    },
    "language_info": {
      "name": "python"
    }
  },
  "cells": [
    {
      "cell_type": "markdown",
      "source": [
        "#**Theory Questions**"
      ],
      "metadata": {
        "id": "5GWeB_VHYCL-"
      }
    },
    {
      "cell_type": "markdown",
      "source": [
        "1. What is Python, and why is it popular?\n",
        "  - Python is a programming language that is easy to read and understand. It allows to write code for a different tasks and projects, making it versatile and accessible for many different fields of work.\n",
        "2. What is an interpreter in Python?\n",
        " - An interpreter in Python is a program that reads and executes the code. It processes the code line by line and converts it into machine-readable bytecode, which can then be executed by the Python runtime.\n",
        "3. What are pre-defined keywords in Python?\n",
        " - Pre-defined keywords in Python are special words that is used for specific tasks. We can't use these words as variable names or function names because they're part of Python's basic rules and syntax.\n",
        " - Examples are as follows: if, elif, else, def, for, while, print, and, or, not, as, etc.\n",
        "4. Can keywords be used as variable names?\n",
        " - No, it cannot be used as variable names because they're reserved for specific tasks in Python. They're part of the python's syntax, so using them as variable names would cause errors.\n",
        "5. What is mutability in Python?\n",
        " - Mutability in Python refers to whether a data type's value can be changed or modified after it is created. If a data type is mutable, it means we can change its content, but if it's immutable, we cannot modify it once it's created.\n",
        "6. Why are lists mutable, but tuples are immutable?\n",
        " - Lists are mutable meaning we can change, add, or remove elements in a list after it is created. It is mutable because, it is meant to store collections of data that can change over time. For example, we may want to keep adding new items to a list or update existing ones, making lists more suitable and adaptable for various situations.\n",
        " - In case of tuple, it is immutable, it means once a tuple is created, its content cannot be changed, added, or removed. It is meant for data that should not change or get accidentally altered. The immutability of tuples makes them suitable for situations where data integrity is important.\n",
        "7. What is the difference between “==” and “is” operators in Python?\n",
        " - The \"==\" operator is used to check the equality, that is if the values of two objects are equal or if the content of the objects are the same.\n",
        " - whereas \"is\" operator checks if two objects refer to the same memory location, meaning it checks if both objects are actually the same object in memory, not just if they have the same value.\n",
        "8. What are logical operators in Python?\n",
        " - Logical operators in Python are used to perform logical operations on boolean values. They help in evaluating conditions based on the logic of AND, OR, and NOT.\n",
        " - AND: It returns True if both conditions are true.\n",
        " - OR: It returns True if at least one of the conditions is true.\n",
        " - NOT: It returns True if the condition is false, and False if the condition is true, that is, it reverses the boolean value.\n",
        "9. What is type casting in Python?\n",
        " - Type casting in Python is the process of converting one data type into another. It allows to change the type of a variable or value to suit the requirements of the operation we want to perform.\n",
        " - For example, if we have a variable 'a' as a string, we can convert it into an integer:\n",
        " - a = \"9\"\n",
        " - int(a) # Output is 9\n",
        "10. What is the difference between implicit and explicit type casting?\n",
        " - Implicit type casting: This happens automatically when Python converts one data type to another without any explicit instruction. For example, when we mix an integer with a float, Python will automatically convert the integer to\n",
        " a float to perform the operation.\n",
        " - a = 10.5 # float\n",
        " - b = 12 # integer\n",
        " - add = a + b # Python automatically converts 'b' to a float and adds\n",
        " - print(add) # Output: 22.5\n",
        " - Explicit type casting: This requires to manually specify the conversion. There are functions like int(), str(), or float() to explicitly convert one data type to another.\n",
        " - a = \"5\" # string\n",
        " - b = int(a)\n",
        " - print(b) # Output is 5\n",
        "11. What is the purpose of conditional statements in Python?\n",
        " - Conditional statements in Python are used to check if something is true or not. It's like making decisions in everyday life. If something is true, we do one thing, if not, we do something else. It's the same in business too, based on certain conditions, we make different choices.\n",
        "12. How does the elif statement work?\n",
        " - The elif statement is used when we have more than one condition to check. If the 'if' condition isn't true, Python will check the 'elif' condition next. It helps to check multiple conditions one after another without using many if statements.\n",
        "13. What is the difference between for and while loops?\n",
        " - A for loop is used when we know how many times we need to repeat something or when we are working within a specific range. It automatically handles the initialization, checking, and updating of the loop variable.\n",
        " - A while loop is used when we don't know how many times we need to repeat something. It keeps running as long as a specific condition is true, and it stops when the condition becomes false.\n",
        "14. Describe a scenario where a while loop is more suitable than a for loop.\n",
        " - A while loop is more suitable when we don't know how many times we need to repeat something, and it depends on a condition being satisfied.\n",
        " - For example, if we want to keep asking for input from the user and until the user gives a certain answer, the loop will run until that condition is met.\n",
        " - In the case of asking for a password from the user, the while loop will keep running until the user provides the correct password. This makes the while loop useful in scenarios where we need continuous input or when we don't know how many times something needs to repeat."
      ],
      "metadata": {
        "id": "55fxJHr6YJZ1"
      }
    },
    {
      "cell_type": "markdown",
      "source": [
        "# Practical Questions"
      ],
      "metadata": {
        "id": "xp80e8dWi1SO"
      }
    },
    {
      "cell_type": "code",
      "source": [
        "# 1. Write a Python program to print \"Hello, World!\n",
        "a = \"Hello, World!\"\n",
        "print(a)"
      ],
      "metadata": {
        "colab": {
          "base_uri": "https://localhost:8080/"
        },
        "id": "A915jcMbi7AE",
        "outputId": "ffe6299e-0a43-46a1-f927-2cc7c08dfa84"
      },
      "execution_count": null,
      "outputs": [
        {
          "output_type": "stream",
          "name": "stdout",
          "text": [
            "Hello, World!\n"
          ]
        }
      ]
    },
    {
      "cell_type": "code",
      "source": [
        "# 2. Write a Python program that displays your name and age.\n",
        "name = \"Swar Sudha\"\n",
        "age = 26\n",
        "print(f\" My name is {name}\\n My age is {age}\")"
      ],
      "metadata": {
        "colab": {
          "base_uri": "https://localhost:8080/"
        },
        "id": "1_nXmXffjTod",
        "outputId": "cd3dbbd8-70fd-4804-eaf1-2174fca262ac"
      },
      "execution_count": null,
      "outputs": [
        {
          "output_type": "stream",
          "name": "stdout",
          "text": [
            " My name is Swar Sudha\n",
            " My age is 26\n"
          ]
        }
      ]
    },
    {
      "cell_type": "code",
      "source": [
        "# 3. Write code to print all the pre-defined keywords in Python using the keyword library.\n",
        "import keyword as kw\n",
        "kw.kwlist"
      ],
      "metadata": {
        "colab": {
          "base_uri": "https://localhost:8080/"
        },
        "id": "Y_8MBqmxj-Jb",
        "outputId": "157baeab-5c8a-4878-d6bd-696610427629"
      },
      "execution_count": null,
      "outputs": [
        {
          "output_type": "execute_result",
          "data": {
            "text/plain": [
              "['False',\n",
              " 'None',\n",
              " 'True',\n",
              " 'and',\n",
              " 'as',\n",
              " 'assert',\n",
              " 'async',\n",
              " 'await',\n",
              " 'break',\n",
              " 'class',\n",
              " 'continue',\n",
              " 'def',\n",
              " 'del',\n",
              " 'elif',\n",
              " 'else',\n",
              " 'except',\n",
              " 'finally',\n",
              " 'for',\n",
              " 'from',\n",
              " 'global',\n",
              " 'if',\n",
              " 'import',\n",
              " 'in',\n",
              " 'is',\n",
              " 'lambda',\n",
              " 'nonlocal',\n",
              " 'not',\n",
              " 'or',\n",
              " 'pass',\n",
              " 'raise',\n",
              " 'return',\n",
              " 'try',\n",
              " 'while',\n",
              " 'with',\n",
              " 'yield']"
            ]
          },
          "metadata": {},
          "execution_count": 1
        }
      ]
    },
    {
      "cell_type": "code",
      "source": [
        "# 4. Write a program that checks if a given word is a Python keyword.\n",
        "import keyword as kw\n",
        "word = input(\"Please enter any word: \")\n",
        "if kw.iskeyword(word):\n",
        "    print(f\"Yes, {word} it is keyword. \")\n",
        "else:\n",
        "    print(f\"{word} is not a keyword. \")"
      ],
      "metadata": {
        "colab": {
          "base_uri": "https://localhost:8080/"
        },
        "id": "_6TDxt5_khGP",
        "outputId": "8347569a-6864-4ab4-9bd0-97b57ad15cbd"
      },
      "execution_count": null,
      "outputs": [
        {
          "output_type": "stream",
          "name": "stdout",
          "text": [
            "Please enter any word: try\n",
            "Yes, try it is keyword. \n"
          ]
        }
      ]
    },
    {
      "cell_type": "code",
      "source": [
        "# 5. Create a list and tuple in Python, and demonstrate how attempting to change an element works differently for each.\n",
        "my_list = [\"Book\", 5, 70.0, \"Pen\"]\n",
        "my_tuple = (1,5,\"House\",8.0)\n",
        "\n",
        "# Changing List\n",
        "my_list[2] = \"Apple\"\n",
        "print(my_list)\n",
        "\n",
        "# Changing Tuple\n",
        "my_tuple[1] = 4\n",
        "print(my_tuple)"
      ],
      "metadata": {
        "colab": {
          "base_uri": "https://localhost:8080/",
          "height": 211
        },
        "id": "tu34eXYUnRpU",
        "outputId": "db4405dc-57b1-4885-aca1-142e17f98387"
      },
      "execution_count": 12,
      "outputs": [
        {
          "output_type": "stream",
          "name": "stdout",
          "text": [
            "['Book', 5, 'Apple', 'Pen']\n"
          ]
        },
        {
          "output_type": "error",
          "ename": "TypeError",
          "evalue": "'tuple' object does not support item assignment",
          "traceback": [
            "\u001b[0;31m---------------------------------------------------------------------------\u001b[0m",
            "\u001b[0;31mTypeError\u001b[0m                                 Traceback (most recent call last)",
            "\u001b[0;32m<ipython-input-12-dad5991c524d>\u001b[0m in \u001b[0;36m<cell line: 0>\u001b[0;34m()\u001b[0m\n\u001b[1;32m      8\u001b[0m \u001b[0;34m\u001b[0m\u001b[0m\n\u001b[1;32m      9\u001b[0m \u001b[0;31m# Changing Tuple\u001b[0m\u001b[0;34m\u001b[0m\u001b[0;34m\u001b[0m\u001b[0m\n\u001b[0;32m---> 10\u001b[0;31m \u001b[0mmy_tuple\u001b[0m\u001b[0;34m[\u001b[0m\u001b[0;36m1\u001b[0m\u001b[0;34m]\u001b[0m \u001b[0;34m=\u001b[0m \u001b[0;36m4\u001b[0m\u001b[0;34m\u001b[0m\u001b[0;34m\u001b[0m\u001b[0m\n\u001b[0m\u001b[1;32m     11\u001b[0m \u001b[0mprint\u001b[0m\u001b[0;34m(\u001b[0m\u001b[0mmy_tuple\u001b[0m\u001b[0;34m)\u001b[0m\u001b[0;34m\u001b[0m\u001b[0;34m\u001b[0m\u001b[0m\n",
            "\u001b[0;31mTypeError\u001b[0m: 'tuple' object does not support item assignment"
          ]
        }
      ]
    },
    {
      "cell_type": "code",
      "source": [
        "# 6. Write a function to demonstrate the behavior of mutable and immutable arguments.\n",
        "def behaviour_of_mutable_immutable_check(mutable, immutable):\n",
        "\n",
        "    mutable.append(\"Eliza\")\n",
        "\n",
        "    try:\n",
        "        immutable.append(\"Eliza\")\n",
        "    except AttributeError:\n",
        "        print(\"Cannot modify the immutable object (tuple).\")\n",
        "\n",
        "    return mutable\n",
        "\n",
        "my_list = [\"Swar\", \"Sai\", \"Shiyana\"]\n",
        "my_tuple = (\"Swar\", \"Sai\", \"Shiyana\")\n",
        "\n",
        "print(f\"Original List: {my_list} \")\n",
        "print(f\"Original Tuple: {my_tuple} \")\n",
        "\n",
        "modified_list = behaviour_of_mutable_immutable_check(my_list, my_tuple )\n",
        "\n",
        "print(f\"modified list: {modified_list}\")"
      ],
      "metadata": {
        "id": "oinmZXfUoXLg",
        "colab": {
          "base_uri": "https://localhost:8080/"
        },
        "outputId": "07899f7a-323f-42ce-dc8c-61a93c302bc6"
      },
      "execution_count": 13,
      "outputs": [
        {
          "output_type": "stream",
          "name": "stdout",
          "text": [
            "Original List: ['Swar', 'Sai', 'Shiyana'] \n",
            "Original Tuple: ('Swar', 'Sai', 'Shiyana') \n",
            "Cannot modify the immutable object (tuple).\n",
            "modified list: ['Swar', 'Sai', 'Shiyana', 'Eliza']\n"
          ]
        }
      ]
    },
    {
      "cell_type": "code",
      "source": [
        "# 7. Write a function to demonstrate the behavior of mutable and immutable arguments.\n",
        "def mutable_immutable_example2(mutable, immutable):\n",
        "    mutable.pop(\"Interest\")\n",
        "\n",
        "    try:\n",
        "      immutable.append(5)\n",
        "    except:\n",
        "      print(\"Cannot modify the integer, it is immutable.\")\n",
        "\n",
        "    return mutable\n",
        "\n",
        "my_dict = {\"Name\": \"Eliza\", \"Interest\": \"Reading\", \"Number\": 9}\n",
        "my_integer = 20\n",
        "\n",
        "print(f\"original dictionary: {my_dict}\")\n",
        "print(f\"original integer: {my_integer}\")\n",
        "\n",
        "modified_dict = mutable_immutable_example2(my_dict, my_integer)\n",
        "\n",
        "print(f\"modified dictionary: {modified_dict}\")"
      ],
      "metadata": {
        "colab": {
          "base_uri": "https://localhost:8080/"
        },
        "id": "zYNu8l19L5-U",
        "outputId": "4807e441-0212-4520-c89e-1195632907fb"
      },
      "execution_count": 18,
      "outputs": [
        {
          "output_type": "stream",
          "name": "stdout",
          "text": [
            "original dictionary: {'Name': 'Eliza', 'Interest': 'Reading', 'Number': 9}\n",
            "original integer: 20\n",
            "Cannot modify the integer, it is immutable.\n",
            "modified dictionary: {'Name': 'Eliza', 'Number': 9}\n"
          ]
        }
      ]
    },
    {
      "cell_type": "code",
      "source": [
        "# 8. Write a program to demonstrate the use of logical operators.\n",
        "credit_score = int(input(\"please enter your credit score: \"))\n",
        "customer_age = int(input(\"Please enter your age: \"))\n",
        "employment_status = input(\"Are you employed (yes/no): \").lower()\n",
        "\n",
        "if credit_score>=700 and customer_age>30 and employment_status=='yes':\n",
        "    print(\"You are eligible for a loan.\")\n",
        "elif credit_score>=700 and (customer_age<30 or employment_status!='yes'):\n",
        "    print(\"You do not meet the critera.\")\n",
        "elif credit_score>=600 and not (customer_age<18 or employment_status=='no'):\n",
        "    print(\"Eligible for the credit card.\")\n",
        "else:\n",
        "    print(\"You do not qulaify for the loan.\")"
      ],
      "metadata": {
        "id": "wN4qpVQ2piH6",
        "colab": {
          "base_uri": "https://localhost:8080/"
        },
        "outputId": "09ca4880-9084-493b-fcb0-f8e879b6d7f2"
      },
      "execution_count": null,
      "outputs": [
        {
          "output_type": "stream",
          "name": "stdout",
          "text": [
            "please enter your credit score: 750\n",
            "Please enter your age: 26\n",
            "Are you employed (yes/no): yes\n",
            "You do not meet the critera.\n"
          ]
        }
      ]
    },
    {
      "cell_type": "code",
      "source": [
        "# 9. Write a Python program to convert user input from string to integer, float, and boolean types.\n",
        "user_input = input(\"Please enter a value: \")\n",
        "# converting into integer\n",
        "try:\n",
        "    integer_value = int(user_input)\n",
        "    print(f\"Integer value is: {integer_value}\")\n",
        "except:\n",
        "    print(\"Cannot convert input into an integer.\")\n",
        "# converting into float\n",
        "try:\n",
        "    float_value = float(user_input)\n",
        "    print(f\"Float value is: {float_value}\")\n",
        "except:\n",
        "    print(\"Cannot convert input into a float.\")\n",
        "# converting into boolean\n",
        "boolean_value = bool(user_input)\n",
        "print(f\"Bool value is: {boolean_value}\")"
      ],
      "metadata": {
        "colab": {
          "base_uri": "https://localhost:8080/"
        },
        "id": "Du6AtimIbPYg",
        "outputId": "779a00cc-17c4-455c-8a26-07a916567489"
      },
      "execution_count": null,
      "outputs": [
        {
          "output_type": "stream",
          "name": "stdout",
          "text": [
            "Please enter a value: 25\n",
            "Integer value is: 25\n",
            "Float value is: 25.0\n",
            "Bool value is: True\n"
          ]
        }
      ]
    },
    {
      "cell_type": "code",
      "source": [
        "# 10. Write code to demonstrate type casting with list elements.\n",
        "my_list = [\"25\", \"56\", \"98\", \"43\"]\n",
        "print(f\"Original list: {my_list}\")\n",
        "\n",
        "int_list = [int(x) for x in my_list]\n",
        "print(f\"Integer list: {int_list}\")\n",
        "\n",
        "float_list = [float(x) for x in my_list]\n",
        "print(f\"Float list: {float_list}\")\n",
        "\n",
        "bool_list = [bool(x) for x in my_list]\n",
        "print(f\"Float list: {bool_list}\")"
      ],
      "metadata": {
        "colab": {
          "base_uri": "https://localhost:8080/"
        },
        "id": "LJeorYFPxtIO",
        "outputId": "553c7b53-bf2b-45cc-eac8-e610d69316fe"
      },
      "execution_count": null,
      "outputs": [
        {
          "output_type": "stream",
          "name": "stdout",
          "text": [
            "Original list: ['25', '56', '98', '43']\n",
            "Integer list: [25, 56, 98, 43]\n",
            "Float list: [25.0, 56.0, 98.0, 43.0]\n",
            "Float list: [True, True, True, True]\n"
          ]
        }
      ]
    },
    {
      "cell_type": "code",
      "source": [
        "# 11. Write a program that checks if a number is positive, negative, or zero.\n",
        "number = float(input(\"Please enter a number: \"))\n",
        "if number <0:\n",
        "     print(\"Number is negative.\")\n",
        "elif number ==0:\n",
        "    print(\"Number is equal to zero.\")\n",
        "else:\n",
        "    print(\"Number is positive.\")"
      ],
      "metadata": {
        "id": "Ek0kRx9Q68AO",
        "colab": {
          "base_uri": "https://localhost:8080/"
        },
        "outputId": "875707e8-3f18-4e61-ed6a-d1e493ddb0e5"
      },
      "execution_count": null,
      "outputs": [
        {
          "output_type": "stream",
          "name": "stdout",
          "text": [
            "Please enter a number: -7\n",
            "Number is negative.\n"
          ]
        }
      ]
    },
    {
      "cell_type": "code",
      "source": [
        "# 12.  Write a for loop to print numbers from 1 to 100.\n",
        "for i in range(1,101):\n",
        "    print(i, end=\" \")"
      ],
      "metadata": {
        "colab": {
          "base_uri": "https://localhost:8080/"
        },
        "id": "FLt83OCP7KCq",
        "outputId": "3cdb21ef-842f-4a3d-b0b5-4551d2a2c6f7"
      },
      "execution_count": null,
      "outputs": [
        {
          "output_type": "stream",
          "name": "stdout",
          "text": [
            "1 2 3 4 5 6 7 8 9 10 11 12 13 14 15 16 17 18 19 20 21 22 23 24 25 26 27 28 29 30 31 32 33 34 35 36 37 38 39 40 41 42 43 44 45 46 47 48 49 50 51 52 53 54 55 56 57 58 59 60 61 62 63 64 65 66 67 68 69 70 71 72 73 74 75 76 77 78 79 80 81 82 83 84 85 86 87 88 89 90 91 92 93 94 95 96 97 98 99 100 "
          ]
        }
      ]
    },
    {
      "cell_type": "code",
      "source": [
        "# 13. Write a Python program to find the sum of all even numbers between 1 and 500.\n",
        "sum_even = 0\n",
        "for i in range(2,501, 2):\n",
        "    sum_even += i\n",
        "print(sum_even)"
      ],
      "metadata": {
        "colab": {
          "base_uri": "https://localhost:8080/"
        },
        "id": "Gw-f_wIv7wX8",
        "outputId": "97531504-bfda-4158-a998-59d1904dba52"
      },
      "execution_count": null,
      "outputs": [
        {
          "output_type": "stream",
          "name": "stdout",
          "text": [
            "62750\n"
          ]
        }
      ]
    },
    {
      "cell_type": "code",
      "source": [
        "# 14. Write a program to reverse a string using a while loop.\n",
        "my_name = \"Swar\"\n",
        "reversed_string = \"\"\n",
        "length = len(my_name) - 1\n",
        "while length>=0:\n",
        "    reversed_string += my_name[length]\n",
        "    length -= 1\n",
        "print(reversed_string)"
      ],
      "metadata": {
        "colab": {
          "base_uri": "https://localhost:8080/"
        },
        "id": "9u92cItm9JQK",
        "outputId": "0fb8640f-7f12-46c9-cab7-5761a018332c"
      },
      "execution_count": null,
      "outputs": [
        {
          "output_type": "stream",
          "name": "stdout",
          "text": [
            "rawS\n"
          ]
        }
      ]
    },
    {
      "cell_type": "code",
      "source": [
        "# 15. Write a Python program to calculate the factorial of a number provided by the user using a while loop.\n",
        "user_input = int(input(\"Please enter a number!\"))\n",
        "factorial = 1\n",
        "i = user_input\n",
        "while i >0:\n",
        "   factorial *= i\n",
        "   i-= 1\n",
        "print(f\"The {user_input} of factorial is {factorial}.\")"
      ],
      "metadata": {
        "id": "MjT2r1F--3pJ",
        "colab": {
          "base_uri": "https://localhost:8080/"
        },
        "outputId": "53b47a53-9fc6-4f2d-e5ad-7332422d1497"
      },
      "execution_count": 16,
      "outputs": [
        {
          "output_type": "stream",
          "name": "stdout",
          "text": [
            "Please enter a number!10\n",
            "The 10 of factorial is 3628800.\n"
          ]
        }
      ]
    }
  ]
}